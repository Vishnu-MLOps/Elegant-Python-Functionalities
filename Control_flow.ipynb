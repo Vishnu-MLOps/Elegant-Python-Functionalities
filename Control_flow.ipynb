{
  "nbformat": 4,
  "nbformat_minor": 0,
  "metadata": {
    "colab": {
      "provenance": [],
      "authorship_tag": "ABX9TyPmTFva6mV2tmReTJuzOnlw",
      "include_colab_link": true
    },
    "kernelspec": {
      "name": "python3",
      "display_name": "Python 3"
    },
    "language_info": {
      "name": "python"
    }
  },
  "cells": [
    {
      "cell_type": "markdown",
      "metadata": {
        "id": "view-in-github",
        "colab_type": "text"
      },
      "source": [
        "<a href=\"https://colab.research.google.com/github/Vishnu-MLOps/Elegant-Python-Functionalities/blob/main/Control_flow.ipynb\" target=\"_parent\"><img src=\"https://colab.research.google.com/assets/colab-badge.svg\" alt=\"Open In Colab\"/></a>"
      ]
    },
    {
      "cell_type": "markdown",
      "source": [
        "--> yield  \n",
        "It turns a function into a generator that does not stop execution like 'return' does.   \n",
        "Unlike 'return', it does not store all values at once (memory efficient)."
      ],
      "metadata": {
        "id": "lU51s-dyY9Kt"
      }
    },
    {
      "cell_type": "code",
      "source": [
        "#Here, gen is a generator, which unlike a list comprehension, does not store all values in memory at once\n",
        "\n",
        "gen = (x*x for x in range(5))\n",
        "print(next(gen))\n",
        "print(next(gen))"
      ],
      "metadata": {
        "colab": {
          "base_uri": "https://localhost:8080/"
        },
        "id": "mCXLYqIiY-M1",
        "outputId": "b65149c8-a83c-4f3a-e6ab-9e5adda9a244"
      },
      "execution_count": 5,
      "outputs": [
        {
          "output_type": "stream",
          "name": "stdout",
          "text": [
            "0\n",
            "1\n"
          ]
        }
      ]
    },
    {
      "cell_type": "code",
      "source": [
        "def square_gen():\n",
        "    for x in range(5):\n",
        "        yield x * x\n",
        "\n",
        "gen = square_gen()\n",
        "print(gen)\n",
        "print(next(gen))\n",
        "print(next(gen))"
      ],
      "metadata": {
        "colab": {
          "base_uri": "https://localhost:8080/"
        },
        "id": "Vd46-XeCY-O4",
        "outputId": "c49f195d-1488-47cc-8248-b1d65658d907"
      },
      "execution_count": 9,
      "outputs": [
        {
          "output_type": "stream",
          "name": "stdout",
          "text": [
            "<generator object square_gen at 0x7a2e0c66d080>\n",
            "0\n",
            "1\n"
          ]
        }
      ]
    },
    {
      "cell_type": "markdown",
      "source": [
        "--> yield from  \n",
        "Used by one generator to delegate work to another generator."
      ],
      "metadata": {
        "id": "-SRRNUCDbVVM"
      }
    },
    {
      "cell_type": "code",
      "source": [
        "def inner():\n",
        "  yield 1\n",
        "  yield 2\n",
        "\n",
        "def outer():\n",
        "  yield 0\n",
        "  yield from inner()\n",
        "  yield 3\n",
        "\n",
        "for x in outer():\n",
        "  print(x)"
      ],
      "metadata": {
        "colab": {
          "base_uri": "https://localhost:8080/"
        },
        "id": "fHpie37nY-SY",
        "outputId": "c05b71a9-91bd-4c5b-ee15-c0510f02e886"
      },
      "execution_count": 10,
      "outputs": [
        {
          "output_type": "stream",
          "name": "stdout",
          "text": [
            "0\n",
            "1\n",
            "2\n",
            "3\n"
          ]
        }
      ]
    },
    {
      "cell_type": "markdown",
      "source": [
        "-->asyncio"
      ],
      "metadata": {
        "id": "PZVdFh2Ec7rS"
      }
    },
    {
      "cell_type": "code",
      "source": [
        "import asyncio\n",
        "\n",
        "async def main():\n",
        "  print('Hello...')\n",
        "  await asyncio.sleep(2)\n",
        "  print('Done waiting')\n",
        "\n",
        "asyncio.run(main())\n",
        "'''Colab is already running an event loop in the background for interactive purposes, so this error is thrown. One event loop cannot be\n",
        "started from inside another.'''"
      ],
      "metadata": {
        "colab": {
          "base_uri": "https://localhost:8080/",
          "height": 332
        },
        "id": "WrOiORSCdABQ",
        "outputId": "9bd635af-a837-4919-a3aa-9178beec72c0"
      },
      "execution_count": 14,
      "outputs": [
        {
          "output_type": "error",
          "ename": "RuntimeError",
          "evalue": "asyncio.run() cannot be called from a running event loop",
          "traceback": [
            "\u001b[0;31m---------------------------------------------------------------------------\u001b[0m",
            "\u001b[0;31mRuntimeError\u001b[0m                              Traceback (most recent call last)",
            "\u001b[0;32m<ipython-input-14-4d2437758936>\u001b[0m in \u001b[0;36m<cell line: 0>\u001b[0;34m()\u001b[0m\n\u001b[1;32m      6\u001b[0m   \u001b[0mprint\u001b[0m\u001b[0;34m(\u001b[0m\u001b[0;34m'Done waiting'\u001b[0m\u001b[0;34m)\u001b[0m\u001b[0;34m\u001b[0m\u001b[0;34m\u001b[0m\u001b[0m\n\u001b[1;32m      7\u001b[0m \u001b[0;34m\u001b[0m\u001b[0m\n\u001b[0;32m----> 8\u001b[0;31m \u001b[0masyncio\u001b[0m\u001b[0;34m.\u001b[0m\u001b[0mrun\u001b[0m\u001b[0;34m(\u001b[0m\u001b[0mmain\u001b[0m\u001b[0;34m(\u001b[0m\u001b[0;34m)\u001b[0m\u001b[0;34m)\u001b[0m\u001b[0;34m\u001b[0m\u001b[0;34m\u001b[0m\u001b[0m\n\u001b[0m\u001b[1;32m      9\u001b[0m '''Colab is already running an event loop in the background for interactive purposes, so this error is thrown. One event loop cannot be \n\u001b[1;32m     10\u001b[0m started from inside another.'''\n",
            "\u001b[0;32m/usr/lib/python3.11/asyncio/runners.py\u001b[0m in \u001b[0;36mrun\u001b[0;34m(main, debug)\u001b[0m\n\u001b[1;32m    184\u001b[0m     \u001b[0;32mif\u001b[0m \u001b[0mevents\u001b[0m\u001b[0;34m.\u001b[0m\u001b[0m_get_running_loop\u001b[0m\u001b[0;34m(\u001b[0m\u001b[0;34m)\u001b[0m \u001b[0;32mis\u001b[0m \u001b[0;32mnot\u001b[0m \u001b[0;32mNone\u001b[0m\u001b[0;34m:\u001b[0m\u001b[0;34m\u001b[0m\u001b[0;34m\u001b[0m\u001b[0m\n\u001b[1;32m    185\u001b[0m         \u001b[0;31m# fail fast with short traceback\u001b[0m\u001b[0;34m\u001b[0m\u001b[0;34m\u001b[0m\u001b[0m\n\u001b[0;32m--> 186\u001b[0;31m         raise RuntimeError(\n\u001b[0m\u001b[1;32m    187\u001b[0m             \"asyncio.run() cannot be called from a running event loop\")\n\u001b[1;32m    188\u001b[0m \u001b[0;34m\u001b[0m\u001b[0m\n",
            "\u001b[0;31mRuntimeError\u001b[0m: asyncio.run() cannot be called from a running event loop"
          ]
        }
      ]
    },
    {
      "cell_type": "code",
      "source": [
        "await main()"
      ],
      "metadata": {
        "colab": {
          "base_uri": "https://localhost:8080/"
        },
        "id": "BneqP7SMeEMj",
        "outputId": "9a171ea1-dd90-4c3f-f344-830ac195fed5"
      },
      "execution_count": 15,
      "outputs": [
        {
          "output_type": "stream",
          "name": "stdout",
          "text": [
            "Hello...\n",
            "Done waiting\n"
          ]
        }
      ]
    },
    {
      "cell_type": "code",
      "source": [
        "#async for\n",
        "import asyncio\n",
        "\n",
        "class AsyncCounter:\n",
        "  def __init__(self):\n",
        "    self.i = 0\n",
        "\n",
        "  def __aiter__(self):\n",
        "    return self\n",
        "\n",
        "  async def __anext__(self):\n",
        "    if self.i > 3:\n",
        "      raise StopAsyncIteration\n",
        "    await asyncio.sleep(1)\n",
        "    self.i += 1\n",
        "    return self.i\n",
        "\n",
        "async for val in AsyncCounter():\n",
        "  print(val)"
      ],
      "metadata": {
        "colab": {
          "base_uri": "https://localhost:8080/"
        },
        "id": "7aEzs8c4e0vK",
        "outputId": "3aed4a28-0fd2-4929-89e7-bebbb3bd8c57"
      },
      "execution_count": 16,
      "outputs": [
        {
          "output_type": "stream",
          "name": "stdout",
          "text": [
            "1\n",
            "2\n",
            "3\n",
            "4\n"
          ]
        }
      ]
    },
    {
      "cell_type": "code",
      "source": [
        "class AsyncContext:\n",
        "    async def __aenter__(self):\n",
        "        print(\"Connecting to something...\")\n",
        "        await asyncio.sleep(1)\n",
        "        return self\n",
        "\n",
        "    async def __aexit__(self, exc_type, exc, tb):\n",
        "        print(\"Disconnecting...\")\n",
        "        await asyncio.sleep(1)\n",
        "\n",
        "async def main():\n",
        "    async with AsyncContext():\n",
        "        print(\"Doing stuff inside\")\n",
        "\n",
        "await main()"
      ],
      "metadata": {
        "colab": {
          "base_uri": "https://localhost:8080/"
        },
        "id": "8zGNPxNEgJGo",
        "outputId": "86b1f3f2-17d8-4e63-ae1b-e403fc80442e"
      },
      "execution_count": 17,
      "outputs": [
        {
          "output_type": "stream",
          "name": "stdout",
          "text": [
            "Connecting to something...\n",
            "Doing stuff inside\n",
            "Disconnecting...\n"
          ]
        }
      ]
    },
    {
      "cell_type": "code",
      "source": [
        "import aiohttp\n",
        "\n",
        "async with aiohttp.ClientSession() as session:\n",
        "    async with session.get(\"https://example.com\") as response:\n",
        "        data = await response.text()\n",
        "        print(data)\n",
        "\n",
        "async for message in websocket:\n",
        "   print(\"Got message:\", message)\n",
        "\n",
        "#Real life use cases for when we dont know the time to sleep (python handles the wait):\n",
        "#async with (a for loop would freeze until the server completes the request)\n",
        "#async for(messages come and go e.g., stock market changes)"
      ],
      "metadata": {
        "id": "X1nEcy_qhjM5"
      },
      "execution_count": null,
      "outputs": []
    }
  ]
}